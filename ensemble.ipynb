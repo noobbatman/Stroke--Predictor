{
 "cells": [
  {
   "cell_type": "code",
   "execution_count": 6,
   "id": "d663d53c",
   "metadata": {},
   "outputs": [
    {
     "name": "stdout",
     "output_type": "stream",
     "text": [
      "c:\\Users\\Istiak\\Desktop\\Stroke_Predictor(2)\n",
      "0.9460285132382892\n"
     ]
    }
   ],
   "source": [
    "import os\n",
    "print(os.getcwd())\n",
    "\n",
    "import pandas as pd\n",
    "import numpy as np\n",
    "\n",
    "df=pd.read_csv('cleaned_data.csv')\n",
    "\n",
    "\n",
    "from sklearn.model_selection import train_test_split\n",
    "from sklearn.linear_model import LogisticRegression\n",
    "from sklearn.metrics import accuracy_score, classification_report\n",
    "from sklearn.preprocessing import StandardScaler,OneHotEncoder\n",
    "from sklearn.compose import ColumnTransformer\n",
    "from sklearn.pipeline import Pipeline\n",
    "from sklearn.ensemble import RandomForestClassifier\n",
    "from sklearn.svm import SVC\n",
    "from sklearn.ensemble import VotingClassifier\n",
    "\n",
    "\n",
    "\n",
    "X=df.drop('stroke',axis=1)\n",
    "y=df['stroke']\n",
    "\n",
    "numerical_cols=X.select_dtypes(include=['int64','float64']).columns\n",
    "categorical_cols=X.select_dtypes(include=['object']).columns\n",
    "\n",
    "prepocessor=ColumnTransformer(\n",
    "    transformers=[('num',StandardScaler(),numerical_cols),\n",
    "                  ('cat',OneHotEncoder(),categorical_cols)\n",
    "                  ])\n",
    "models=[\n",
    "    ('log_reg',LogisticRegression()),\n",
    "    ('rand_forest',RandomForestClassifier(n_estimators=100)),\n",
    "    ('svm',SVC(kernel='linear'))\n",
    "]\n",
    "voting_clif=Pipeline(steps=[\n",
    "    ('preprocessor',prepocessor),\n",
    "    ('voting',VotingClassifier(estimators=models,voting='hard'))\n",
    "])  \n",
    "\n",
    "X_train,X_test,y_train,y_test=train_test_split(X,y,test_size=0.2,random_state=42)\n",
    "\n",
    "voting_clif.fit(X_train,y_train)\n",
    "y_pred=voting_clif.predict(X_test)\n",
    "print(accuracy_score(y_test,y_pred))\n"
   ]
  }
 ],
 "metadata": {
  "kernelspec": {
   "display_name": "Batman",
   "language": "python",
   "name": "python3"
  },
  "language_info": {
   "codemirror_mode": {
    "name": "ipython",
    "version": 3
   },
   "file_extension": ".py",
   "mimetype": "text/x-python",
   "name": "python",
   "nbconvert_exporter": "python",
   "pygments_lexer": "ipython3",
   "version": "3.9.13"
  }
 },
 "nbformat": 4,
 "nbformat_minor": 5
}
