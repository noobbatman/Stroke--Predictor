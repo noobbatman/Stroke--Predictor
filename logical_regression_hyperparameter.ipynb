{
 "cells": [
  {
   "cell_type": "code",
   "execution_count": 2,
   "id": "7b69ad8b",
   "metadata": {},
   "outputs": [
    {
     "name": "stdout",
     "output_type": "stream",
     "text": [
      "c:\\Users\\Istiak\\Desktop\\Stroke_Predictor(2)\n"
     ]
    }
   ],
   "source": [
    "import os\n",
    "print(os.getcwd())"
   ]
  },
  {
   "cell_type": "code",
   "execution_count": 3,
   "id": "f6200af5",
   "metadata": {},
   "outputs": [],
   "source": [
    "import pandas as pd\n",
    "import numpy as np\n",
    "\n",
    "df=pd.read_csv('cleaned_data.csv')\n",
    "\n"
   ]
  },
  {
   "cell_type": "code",
   "execution_count": 5,
   "id": "2d17250d",
   "metadata": {},
   "outputs": [
    {
     "name": "stdout",
     "output_type": "stream",
     "text": [
      "Accuracy: 0.9460\n"
     ]
    }
   ],
   "source": [
    "from sklearn.model_selection import train_test_split\n",
    "from sklearn.linear_model import LogisticRegression\n",
    "from sklearn.metrics import accuracy_score, classification_report\n",
    "from sklearn.preprocessing import StandardScaler,OneHotEncoder\n",
    "from sklearn.compose import ColumnTransformer\n",
    "from sklearn.pipeline import Pipeline\n",
    "from sklearn.model_selection import GridSearchCV\n",
    "\n",
    "\n",
    "X=df.drop('stroke',axis=1)\n",
    "y=df['stroke']\n",
    "\n",
    "numerical_cols=X.select_dtypes(include=['int64','float64']).columns\n",
    "categorical_cols=X.select_dtypes(include=['object']).columns\n",
    "\n",
    "prepocessor=ColumnTransformer(\n",
    "    transformers=[('num',StandardScaler(),numerical_cols),\n",
    "                  ('cat',OneHotEncoder(handle_unknown='ignore'),categorical_cols)\n",
    "                  ])\n",
    "model=Pipeline(steps=[('preprocessor',prepocessor),\n",
    "                      ('classifier',LogisticRegression())\n",
    "                      ])   \n",
    "\n",
    "X_train,X_test,y_train,y_test=train_test_split(X,y,test_size=0.2,random_state=42)\n",
    "\n",
    "param_grid={\n",
    "    'classifier__C':[0.1,1.0,10.0],\n",
    "    'classifier__solver':['liblinear','lbfgs'],\n",
    "    'classifier__max_iter':[100,200,300],\n",
    "}\n",
    "\n",
    "grid_search=GridSearchCV(model,param_grid,cv=5,n_jobs=-1,scoring='accuracy')\n",
    "grid_search.fit(X_train,y_train)\n",
    "\n",
    "best_model=grid_search.best_estimator_\n",
    "y_pred=best_model.predict(X_test) \n",
    "accuracy=accuracy_score(y_test,y_pred)\n",
    "print(f'Accuracy: {accuracy:.4f}')"
   ]
  }
 ],
 "metadata": {
  "kernelspec": {
   "display_name": "Batman",
   "language": "python",
   "name": "python3"
  },
  "language_info": {
   "codemirror_mode": {
    "name": "ipython",
    "version": 3
   },
   "file_extension": ".py",
   "mimetype": "text/x-python",
   "name": "python",
   "nbconvert_exporter": "python",
   "pygments_lexer": "ipython3",
   "version": "3.9.13"
  }
 },
 "nbformat": 4,
 "nbformat_minor": 5
}
